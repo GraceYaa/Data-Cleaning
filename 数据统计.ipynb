{
 "cells": [
  {
   "cell_type": "code",
   "execution_count": null,
   "metadata": {},
   "outputs": [],
   "source": [
    "import pandas as pd\n",
    "import numpy as np\n",
    "import os"
   ]
  },
  {
   "cell_type": "code",
   "execution_count": null,
   "metadata": {},
   "outputs": [],
   "source": [
    "os.getcwd()"
   ]
  },
  {
   "cell_type": "code",
   "execution_count": null,
   "metadata": {},
   "outputs": [],
   "source": [
    "os.chdir(r'F:\\\\python\\\\数据清洗\\\\数据')"
   ]
  },
  {
   "cell_type": "code",
   "execution_count": null,
   "metadata": {},
   "outputs": [],
   "source": [
    "os.getcwd()"
   ]
  },
  {
   "cell_type": "markdown",
   "metadata": {},
   "source": [
    "在线杂货店订单数据\n",
    "- customer ：消费者ID，一个消费者可能有多个订单\n",
    "- order ：订单ID，订单的唯一标识，不重复\n",
    "- total_items ：订单中购买的商品数量\n",
    "- discount% ：收到的总折扣百分比\n",
    "- weekday ：下单时间：星期几下单，1-7 为 周一至周日\n",
    "- hour ：下单时间：几点下单，0-23 为二十四小时制\n",
    "- Food% ：食物在订单总价中占比，食物为非生鲜类食物\n",
    "- Fresh% ：生鲜类食物在订单总中占比\n",
    "- Drinks% ：饮品在订单总价占比，由于高糖税可能导致总折扣为负\n",
    "- Home% ：家居用品在订单总价中占比\n",
    "- Beauty% : 美妆类产品在订单总价中占比\n",
    "- Health% ：保健类产品在订单总价中占比\n",
    "- Baby% ：母婴类产品在订单总价占比\n",
    "- Pets% ：宠物用品在订单总价占比"
   ]
  },
  {
   "cell_type": "code",
   "execution_count": null,
   "metadata": {},
   "outputs": [],
   "source": [
    "df = pd.read_csv('online_order.csv',\n",
    "                 encoding='gbk',\n",
    "                 dtype={\n",
    "                     'customer': str,\n",
    "                     'order': str\n",
    "                 })"
   ]
  },
  {
   "cell_type": "code",
   "execution_count": null,
   "metadata": {},
   "outputs": [],
   "source": [
    "df.info()"
   ]
  },
  {
   "cell_type": "code",
   "execution_count": null,
   "metadata": {},
   "outputs": [],
   "source": [
    "df.dtypes"
   ]
  },
  {
   "cell_type": "code",
   "execution_count": null,
   "metadata": {},
   "outputs": [],
   "source": [
    "df.head(5)"
   ]
  },
  {
   "cell_type": "markdown",
   "metadata": {},
   "source": [
    "# 数据分组计算"
   ]
  },
  {
   "cell_type": "markdown",
   "metadata": {},
   "source": [
    "- df.groupby('a') \n",
    "- df.groupby(by = ['a','b'])\n",
    "- df[['a','b','c']].groupby('a') \n",
    "- df[['a','b','c']].groupby(by = ['a','b'])\n",
    "\n",
    "- 使用单个分组变量\n",
    "\n",
    "- 使用groupby方法"
   ]
  },
  {
   "cell_type": "code",
   "execution_count": null,
   "metadata": {},
   "outputs": [],
   "source": [
    "#创建分组对象,按照星期进行分组\n",
    "grouped = df.groupby('weekday') \n",
    "#调用方法\n",
    "grouped.mean() "
   ]
  },
  {
   "cell_type": "code",
   "execution_count": null,
   "metadata": {},
   "outputs": [],
   "source": [
    "# 计算不同的星期，商品数量的总和\n",
    "grouped.sum()['total_items']"
   ]
  },
  {
   "cell_type": "code",
   "execution_count": null,
   "metadata": {},
   "outputs": [],
   "source": [
    "#创建分组对象,按照用户和星期\n",
    "grouped = df.groupby(by=['customer', 'weekday'])\n",
    "#调用方法,计算不同的用户周一到周天的订购商品数量的总和\n",
    "grouped.sum()['total_items'].head(20)"
   ]
  },
  {
   "cell_type": "markdown",
   "metadata": {},
   "source": [
    "# 聚合函数的使用"
   ]
  },
  {
   "cell_type": "markdown",
   "metadata": {},
   "source": [
    "- 使用聚合函数agg\n",
    "- agg是一个作用于series或者DataFrame的函数,主要目的是针对分组后的对象，使用相关函数进行计算"
   ]
  },
  {
   "cell_type": "code",
   "execution_count": null,
   "metadata": {},
   "outputs": [],
   "source": [
    "#创建分组对象,按照周一到周天进行分组\n",
    "grouped = df.groupby('weekday')"
   ]
  },
  {
   "cell_type": "code",
   "execution_count": null,
   "metadata": {},
   "outputs": [],
   "source": [
    "#对分组后对象，计算均值和总和\n",
    "grouped.agg([np.mean, np.max, np.min, np.sum])"
   ]
  },
  {
   "cell_type": "code",
   "execution_count": null,
   "metadata": {},
   "outputs": [],
   "source": [
    "#对2个变量分别计算不同的统计量\n",
    "grouped.agg({'total_items': np.sum, 'Food%': [np.mean, np.median]})"
   ]
  },
  {
   "cell_type": "code",
   "execution_count": null,
   "metadata": {},
   "outputs": [],
   "source": [
    "#也可以直接对数据进行汇总\n",
    "df[['total_items', 'Food%', 'Drinks%']].agg([np.sum, np.mean])"
   ]
  },
  {
   "cell_type": "markdown",
   "metadata": {},
   "source": [
    "\n",
    "# 分组对象与apply函数\n",
    "\n",
    "- 使用apply函数\n",
    "- 0代表沿着行的方向作用,1代表沿着列的方向作用"
   ]
  },
  {
   "cell_type": "code",
   "execution_count": null,
   "metadata": {},
   "outputs": [],
   "source": [
    "#可以做聚合\n",
    "grouped.apply(np.mean)[['total_items','Food%']] "
   ]
  },
  {
   "cell_type": "markdown",
   "metadata": {},
   "source": [
    "体验一下apply 中,axis=0 或者 axis=1的区别"
   ]
  },
  {
   "cell_type": "code",
   "execution_count": null,
   "metadata": {},
   "outputs": [],
   "source": [
    "df.columns"
   ]
  },
  {
   "cell_type": "code",
   "execution_count": null,
   "metadata": {},
   "outputs": [],
   "source": [
    "# 不同类型的商品占比\n",
    "var_name = [\n",
    "    'Food%', 'Fresh%', 'Drinks%', 'Home%', 'Beauty%', 'Health%', 'Baby%',\n",
    "    'Pets%'\n",
    "]"
   ]
  },
  {
   "cell_type": "code",
   "execution_count": null,
   "metadata": {},
   "outputs": [],
   "source": [
    "#相当于计算每列的总和\n",
    "df[var_name].apply(np.sum,axis = 0) "
   ]
  },
  {
   "cell_type": "code",
   "execution_count": null,
   "metadata": {},
   "outputs": [],
   "source": [
    "# 相当于计算每行的总和\n",
    "df['sum'] = df[var_name].apply(np.sum, axis=1)\n",
    "df.head(5)"
   ]
  },
  {
   "cell_type": "code",
   "execution_count": null,
   "metadata": {},
   "outputs": [],
   "source": [
    "var_name.append('sum')\n",
    "#查看数据，会发现总和为1\n",
    "df[var_name].head(5)"
   ]
  },
  {
   "cell_type": "code",
   "execution_count": null,
   "metadata": {},
   "outputs": [],
   "source": [
    "#计算食物在订单总价中占比 - 生鲜类食物在订单总中占比\n",
    "df[var_name].apply(lambda x: x[0] - x[1], axis=1).head(5)"
   ]
  },
  {
   "cell_type": "markdown",
   "metadata": {},
   "source": [
    "# 透视图与交叉表"
   ]
  },
  {
   "cell_type": "code",
   "execution_count": null,
   "metadata": {},
   "outputs": [],
   "source": [
    "#读取数据\n",
    "df = pd.read_csv('online_order.csv',\n",
    "                 encoding='gbk',\n",
    "                 dtype={\n",
    "                     'customer': int,\n",
    "                     'order': str\n",
    "                 })"
   ]
  },
  {
   "cell_type": "code",
   "execution_count": null,
   "metadata": {},
   "outputs": [],
   "source": [
    "df.columns"
   ]
  },
  {
   "cell_type": "code",
   "execution_count": null,
   "metadata": {},
   "outputs": [],
   "source": [
    "df.dtypes"
   ]
  },
  {
   "cell_type": "code",
   "execution_count": null,
   "metadata": {
    "scrolled": true
   },
   "outputs": [],
   "source": [
    "# 单个变量\n",
    "#margin =True 表示是否需要总计\n",
    "pd.pivot_table(data=df,\n",
    "               index='weekday',\n",
    "               values='total_items',\n",
    "               aggfunc=[np.sum, np.size],\n",
    "               margins=True,\n",
    "               fill_value=0,\n",
    "               margins_name='总计')\n",
    "#按照周一到周天计算购买的商品数量总数和次数"
   ]
  },
  {
   "cell_type": "code",
   "execution_count": null,
   "metadata": {},
   "outputs": [],
   "source": [
    "pd.pivot_table?"
   ]
  },
  {
   "cell_type": "markdown",
   "metadata": {},
   "source": [
    "- 交叉表\n",
    "- 交叉表更多用于计算分组频率"
   ]
  },
  {
   "cell_type": "code",
   "execution_count": null,
   "metadata": {},
   "outputs": [],
   "source": [
    "# 使用交叉表\n",
    "#是一种计算分组频数的特殊透视表\n",
    "#不同的星期，不同的折扣交叉表\n",
    "pd.crosstab(index=df['weekday'], \n",
    "            columns=df['discount%'], \n",
    "            margins=True)"
   ]
  },
  {
   "cell_type": "code",
   "execution_count": null,
   "metadata": {},
   "outputs": [],
   "source": [
    "#按照行进行汇总，计算频数占比\n",
    "pd.crosstab(index=df['weekday'],\n",
    "            columns=df['discount%'],\n",
    "            margins=True,\n",
    "            normalize='all')"
   ]
  },
  {
   "cell_type": "code",
   "execution_count": null,
   "metadata": {},
   "outputs": [],
   "source": [
    "#按照行进行汇总，计算频数占比\n",
    "pd.crosstab(index=df['weekday'],\n",
    "            columns=df['discount%'],\n",
    "            margins=True,\n",
    "            normalize='index')\n",
    "#index表示计算行百分比，columns表示计算列百分比"
   ]
  },
  {
   "cell_type": "code",
   "execution_count": null,
   "metadata": {},
   "outputs": [],
   "source": [
    "pd.crosstab(index=df['weekday'],\n",
    "            columns=df['discount%'],\n",
    "            margins=True,\n",
    "            normalize='columns')\n",
    "#index表示计算行百分比，columns表示计算列百分比"
   ]
  },
  {
   "cell_type": "code",
   "execution_count": null,
   "metadata": {},
   "outputs": [],
   "source": []
  }
 ],
 "metadata": {
  "kernelspec": {
   "display_name": "Python 3",
   "language": "python",
   "name": "python3"
  },
  "language_info": {
   "codemirror_mode": {
    "name": "ipython",
    "version": 3
   },
   "file_extension": ".py",
   "mimetype": "text/x-python",
   "name": "python",
   "nbconvert_exporter": "python",
   "pygments_lexer": "ipython3",
   "version": "3.7.3"
  },
  "toc": {
   "base_numbering": 1,
   "nav_menu": {},
   "number_sections": true,
   "sideBar": true,
   "skip_h1_title": false,
   "title_cell": "Table of Contents",
   "title_sidebar": "Contents",
   "toc_cell": false,
   "toc_position": {},
   "toc_section_display": true,
   "toc_window_display": false
  }
 },
 "nbformat": 4,
 "nbformat_minor": 4
}
